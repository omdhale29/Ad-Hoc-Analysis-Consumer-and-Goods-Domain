{
 "cells": [
  {
   "cell_type": "markdown",
   "id": "71774872-78c9-40d9-9e2b-734ad11baf56",
   "metadata": {},
   "source": [
    "FIRST PYTHON CODE"
   ]
  },
  {
   "cell_type": "code",
   "execution_count": 1,
   "id": "da33750f-8beb-4a22-a9d1-1b1c0fa4ab8a",
   "metadata": {},
   "outputs": [
    {
     "name": "stdout",
     "output_type": "stream",
     "text": [
      "Hello Python World\n"
     ]
    }
   ],
   "source": [
    "print(\"Hello Python World\")"
   ]
  },
  {
   "cell_type": "markdown",
   "id": "7f73a6d5-acbb-4cfd-a143-10cb9edcdf37",
   "metadata": {},
   "source": [
    "PYTHON COMMENTS"
   ]
  },
  {
   "cell_type": "code",
   "execution_count": 1,
   "id": "d55dae0e-06a4-45eb-9f63-e660723cf0eb",
   "metadata": {},
   "outputs": [],
   "source": [
    "# This is single line comment."
   ]
  },
  {
   "cell_type": "code",
   "execution_count": 2,
   "id": "c75aa858-0300-4094-99f1-201d68e93eac",
   "metadata": {},
   "outputs": [
    {
     "name": "stdout",
     "output_type": "stream",
     "text": [
      "Hello World\n"
     ]
    }
   ],
   "source": [
    "print(\"Hello World\") # This is inline comment."
   ]
  },
  {
   "cell_type": "code",
   "execution_count": 6,
   "id": "38c80112-43da-4039-9198-e2e80c268dfc",
   "metadata": {},
   "outputs": [],
   "source": [
    "# This is first comment of multi-line comment\n",
    "# This is second comment of multi-line comment\n",
    "# And So on.."
   ]
  },
  {
   "cell_type": "markdown",
   "id": "b00eca1c-585e-4d79-a39c-9215870d3231",
   "metadata": {},
   "source": [
    "VARIABLES"
   ]
  },
  {
   "cell_type": "code",
   "execution_count": 7,
   "id": "2f556503-a126-482b-9ab7-676f08a59bbd",
   "metadata": {},
   "outputs": [
    {
     "name": "stdout",
     "output_type": "stream",
     "text": [
      "2\n",
      "<class 'int'>\n"
     ]
    }
   ],
   "source": [
    "a = 2\n",
    "print(a)\n",
    "print(type(a))"
   ]
  },
  {
   "cell_type": "code",
   "execution_count": 9,
   "id": "af4ddce9-c048-4f43-b52c-05e94b37242f",
   "metadata": {},
   "outputs": [
    {
     "name": "stdout",
     "output_type": "stream",
     "text": [
      "2 2.3\n"
     ]
    }
   ],
   "source": [
    "b = 2\n",
    "c = 2.3\n",
    "print(b,c)"
   ]
  },
  {
   "cell_type": "code",
   "execution_count": 10,
   "id": "da4b32d4-3a77-4259-8eee-c2b77f5cca36",
   "metadata": {},
   "outputs": [
    {
     "name": "stdout",
     "output_type": "stream",
     "text": [
      "Apple\n"
     ]
    }
   ],
   "source": [
    "x = \"Apple\"\n",
    "print(x)"
   ]
  },
  {
   "cell_type": "code",
   "execution_count": 6,
   "id": "a14dfcef-1140-4475-ad98-c5057a39f33b",
   "metadata": {},
   "outputs": [
    {
     "name": "stdout",
     "output_type": "stream",
     "text": [
      "Mango\n",
      "<class 'str'>\n"
     ]
    }
   ],
   "source": [
    "Fruit = \"Mango\"\n",
    "print(Fruit)\n",
    "print(type(Fruit))"
   ]
  },
  {
   "cell_type": "code",
   "execution_count": 17,
   "id": "0ad38b9b-ef89-45f4-bb39-f0bee98cd9ae",
   "metadata": {},
   "outputs": [
    {
     "name": "stdout",
     "output_type": "stream",
     "text": [
      "Om,Jay\n"
     ]
    }
   ],
   "source": [
    "student1 = \"Om\"\n",
    "student2 = \"Jay\"\n",
    "print(student1+\",\"+student2)"
   ]
  },
  {
   "cell_type": "code",
   "execution_count": 2,
   "id": "5aeb0265-c14c-46ec-aa14-c8e83cc2c8bb",
   "metadata": {},
   "outputs": [
    {
     "name": "stdout",
     "output_type": "stream",
     "text": [
      "Apple Mango Cheery\n"
     ]
    }
   ],
   "source": [
    "x,y,z = \"Apple\", \"Mango\", \"Cheery\"\n",
    "print(x,y,z)"
   ]
  },
  {
   "cell_type": "code",
   "execution_count": 4,
   "id": "e9a1e2eb-aaf6-4f87-97b0-88dc753e0607",
   "metadata": {},
   "outputs": [
    {
     "name": "stdout",
     "output_type": "stream",
     "text": [
      "Orange\n",
      "Orange\n",
      "Orange\n"
     ]
    }
   ],
   "source": [
    "x=y=z = \"Orange\"\n",
    "print(x)\n",
    "print(y)\n",
    "print(z)"
   ]
  },
  {
   "cell_type": "markdown",
   "id": "ada07625-ef57-428f-948f-e1e0c42ceb45",
   "metadata": {},
   "source": [
    "DATA TYPES"
   ]
  },
  {
   "cell_type": "code",
   "execution_count": 9,
   "id": "81326bdf-61b1-4dd6-ad29-bf25c824147b",
   "metadata": {},
   "outputs": [
    {
     "name": "stdout",
     "output_type": "stream",
     "text": [
      "<class 'int'>\n"
     ]
    }
   ],
   "source": [
    "A = 2\n",
    "print(type(A))"
   ]
  },
  {
   "cell_type": "code",
   "execution_count": 10,
   "id": "3f980cfa-0ffa-4f15-8822-1a1f855d599f",
   "metadata": {},
   "outputs": [
    {
     "name": "stdout",
     "output_type": "stream",
     "text": [
      "<class 'float'>\n"
     ]
    }
   ],
   "source": [
    "B = 2.23\n",
    "print(type(B))"
   ]
  },
  {
   "cell_type": "code",
   "execution_count": 12,
   "id": "060c116e-ef5b-4c26-84d7-db46d0ba7119",
   "metadata": {},
   "outputs": [
    {
     "name": "stdout",
     "output_type": "stream",
     "text": [
      "<class 'str'>\n"
     ]
    }
   ],
   "source": [
    "C = \"Apple\"\n",
    "print(type(C))"
   ]
  },
  {
   "cell_type": "code",
   "execution_count": 13,
   "id": "6dc97fd0-2af6-499e-bdc0-d8dece6092e2",
   "metadata": {},
   "outputs": [
    {
     "name": "stdout",
     "output_type": "stream",
     "text": [
      "<class 'list'>\n"
     ]
    }
   ],
   "source": [
    "D = [1,2,3,4,5,6,7,8,9,10]\n",
    "print(type(D))"
   ]
  },
  {
   "cell_type": "code",
   "execution_count": 14,
   "id": "7110e895-77eb-4a3f-8b78-e0a75b21a3b2",
   "metadata": {},
   "outputs": [
    {
     "name": "stdout",
     "output_type": "stream",
     "text": [
      "<class 'tuple'>\n"
     ]
    }
   ],
   "source": [
    "E = (1,2,3,4,5,6,7,8,9,10)\n",
    "print(type(E))"
   ]
  },
  {
   "cell_type": "code",
   "execution_count": 15,
   "id": "0286879f-8fca-4772-afe0-58b6b28e00f0",
   "metadata": {},
   "outputs": [
    {
     "name": "stdout",
     "output_type": "stream",
     "text": [
      "<class 'set'>\n"
     ]
    }
   ],
   "source": [
    "F = {1,2,3,4,5,6,7,8,9,10}\n",
    "print(type(F))"
   ]
  },
  {
   "cell_type": "code",
   "execution_count": 20,
   "id": "9d28af36-f7b6-405a-8fb5-cfa583eb210c",
   "metadata": {},
   "outputs": [
    {
     "name": "stdout",
     "output_type": "stream",
     "text": [
      "<class 'complex'>\n"
     ]
    }
   ],
   "source": [
    "G = 3+5j\n",
    "print(type(G))"
   ]
  },
  {
   "cell_type": "code",
   "execution_count": 21,
   "id": "b4ea600f-d9b5-4449-a362-c0e4207ef7f5",
   "metadata": {},
   "outputs": [
    {
     "name": "stdout",
     "output_type": "stream",
     "text": [
      "Variable   Type       Data/Info\n",
      "-------------------------------\n",
      "A          int        2\n",
      "B          float      2.23\n",
      "C          str        Apple\n",
      "D          list       n=10\n",
      "E          tuple      n=10\n",
      "F          set        {1, 2, 3, 4, 5, 6, 7, 8, 9, 10}\n",
      "Fruit      str        Mango\n",
      "G          complex    (3+5j)\n",
      "a          int        2\n",
      "x          str        Orange\n",
      "y          str        Orange\n",
      "z          str        Orange\n"
     ]
    }
   ],
   "source": [
    "%whos"
   ]
  },
  {
   "cell_type": "markdown",
   "id": "1086eff5-eeb1-4e71-883b-21f9df9d4a2a",
   "metadata": {},
   "source": [
    "Pyhton - OPERATORS"
   ]
  },
  {
   "cell_type": "code",
   "execution_count": 23,
   "id": "673d80f9-54e5-4654-a3ae-b2fd5735a374",
   "metadata": {},
   "outputs": [
    {
     "name": "stdout",
     "output_type": "stream",
     "text": [
      "15\n"
     ]
    }
   ],
   "source": [
    "a = 5 \n",
    "b = 10\n",
    "print(a+b)"
   ]
  },
  {
   "cell_type": "code",
   "execution_count": 24,
   "id": "3656557b-5d47-4591-bd12-0010bdb01026",
   "metadata": {},
   "outputs": [
    {
     "name": "stdout",
     "output_type": "stream",
     "text": [
      "12.3\n"
     ]
    }
   ],
   "source": [
    "a = 10 \n",
    "b = 2.3 \n",
    "print(a+b)"
   ]
  },
  {
   "cell_type": "code",
   "execution_count": 26,
   "id": "8a059edf-0b51-4212-90fa-7c73af662a38",
   "metadata": {},
   "outputs": [
    {
     "name": "stdout",
     "output_type": "stream",
     "text": [
      "Hello World\n"
     ]
    }
   ],
   "source": [
    "a = \"Hello\"\n",
    "b = \"World\"\n",
    "print(a+\" \"+b)"
   ]
  },
  {
   "cell_type": "code",
   "execution_count": 27,
   "id": "32d4c2cb-6cb0-4896-aa8e-59eae07d522c",
   "metadata": {},
   "outputs": [
    {
     "name": "stdout",
     "output_type": "stream",
     "text": [
      "Hello  World\n"
     ]
    }
   ],
   "source": [
    "a = \"Hello \"\n",
    "b = \" World\"\n",
    "print(a+b)"
   ]
  },
  {
   "cell_type": "code",
   "execution_count": 28,
   "id": "b7a5b9cc-2d08-4c6d-a2db-095dae185147",
   "metadata": {},
   "outputs": [
    {
     "name": "stdout",
     "output_type": "stream",
     "text": [
      "6\n"
     ]
    }
   ],
   "source": [
    "a = 10 \n",
    "b = 4 \n",
    "print(a-b)"
   ]
  },
  {
   "cell_type": "code",
   "execution_count": 29,
   "id": "9cc067af-2809-434b-b659-5e1b8b49fc35",
   "metadata": {},
   "outputs": [
    {
     "name": "stdout",
     "output_type": "stream",
     "text": [
      "7.7\n"
     ]
    }
   ],
   "source": [
    "a = 10 \n",
    "b = 2.3\n",
    "print(a-b)"
   ]
  },
  {
   "cell_type": "code",
   "execution_count": 30,
   "id": "3686c57c-6105-46f7-ae57-35ac95fdec29",
   "metadata": {},
   "outputs": [
    {
     "name": "stdout",
     "output_type": "stream",
     "text": [
      "(7+6j)\n",
      "(3+6j)\n"
     ]
    }
   ],
   "source": [
    "a = 5+6j\n",
    "b = 2\n",
    "print(a+b)\n",
    "print(a-b)"
   ]
  },
  {
   "cell_type": "code",
   "execution_count": 31,
   "id": "554c7b07-1705-4344-b124-f45187335851",
   "metadata": {},
   "outputs": [
    {
     "name": "stdout",
     "output_type": "stream",
     "text": [
      "6\n"
     ]
    }
   ],
   "source": [
    "a = 3 \n",
    "b = 2 \n",
    "print(a*b)"
   ]
  },
  {
   "cell_type": "code",
   "execution_count": 32,
   "id": "d400aeb4-eb37-460b-b677-a80d376ce9a5",
   "metadata": {},
   "outputs": [
    {
     "name": "stdout",
     "output_type": "stream",
     "text": [
      "7.5\n"
     ]
    }
   ],
   "source": [
    "a = 3 \n",
    "b = 2.5\n",
    "print(a*b)"
   ]
  },
  {
   "cell_type": "code",
   "execution_count": 33,
   "id": "d8acf269-91f3-4eeb-a1ef-7ac18284e1c4",
   "metadata": {},
   "outputs": [
    {
     "name": "stdout",
     "output_type": "stream",
     "text": [
      "4.0\n"
     ]
    }
   ],
   "source": [
    "a = 8\n",
    "b = 2 \n",
    "print(a/b)"
   ]
  },
  {
   "cell_type": "code",
   "execution_count": 34,
   "id": "226219f4-3d81-4c52-93bf-942ee0d17697",
   "metadata": {},
   "outputs": [
    {
     "name": "stdout",
     "output_type": "stream",
     "text": [
      "2.0\n"
     ]
    }
   ],
   "source": [
    "a = 9\n",
    "b = 4.5\n",
    "print(a/b)"
   ]
  },
  {
   "cell_type": "code",
   "execution_count": 35,
   "id": "e0ac0f00-ddd1-4367-a224-d288efedcefe",
   "metadata": {},
   "outputs": [
    {
     "name": "stdout",
     "output_type": "stream",
     "text": [
      "1\n"
     ]
    }
   ],
   "source": [
    "a = 9\n",
    "b = 2 \n",
    "print(a%b)"
   ]
  },
  {
   "cell_type": "code",
   "execution_count": 36,
   "id": "fe828bdd-76fd-469c-bb56-3a0cbedd2df1",
   "metadata": {},
   "outputs": [
    {
     "name": "stdout",
     "output_type": "stream",
     "text": [
      "0\n"
     ]
    }
   ],
   "source": [
    "a = 8\n",
    "b = 2 \n",
    "print(a%b)"
   ]
  },
  {
   "cell_type": "code",
   "execution_count": 37,
   "id": "5dad8530-a615-4132-85d4-97ba2f3745d8",
   "metadata": {},
   "outputs": [
    {
     "name": "stdout",
     "output_type": "stream",
     "text": [
      "174751504498430397037735824363604787588901184430254256815988707712519159702636094325147101511753192504227706714001079389397183715123618503777746822329444407296669188384676135413479185031286876158664483202727540981057602168109312563478547653080191056256155351433341781120765719414036702269162896747856839581646949495041293101511880972190025161672273714591194120967708855647731042121601068908264413006138358338165842686119551443176134660568810170216879180418574443369286582839420709406117964220964055123738807957704452481\n"
     ]
    }
   ],
   "source": [
    "a = 774673\n",
    "b = 88\n",
    "print(a**b)"
   ]
  },
  {
   "cell_type": "code",
   "execution_count": 38,
   "id": "f7dccc26-cc61-4440-9fb4-92788fa0f86e",
   "metadata": {},
   "outputs": [
    {
     "name": "stdout",
     "output_type": "stream",
     "text": [
      "27\n"
     ]
    }
   ],
   "source": [
    "a = 3 \n",
    "b = 3\n",
    "print(a**b)"
   ]
  },
  {
   "cell_type": "code",
   "execution_count": 1,
   "id": "0e1c3891-cbfe-4f98-9d97-953742bbbd6f",
   "metadata": {},
   "outputs": [
    {
     "name": "stdout",
     "output_type": "stream",
     "text": [
      "False\n"
     ]
    }
   ],
   "source": [
    "a = True\n",
    "b = False\n",
    "print(a and b)"
   ]
  },
  {
   "cell_type": "code",
   "execution_count": 4,
   "id": "4826b783-38cc-4352-bb12-43e08bc2fa20",
   "metadata": {},
   "outputs": [
    {
     "name": "stdout",
     "output_type": "stream",
     "text": [
      "False\n"
     ]
    }
   ],
   "source": [
    "a = False\n",
    "b = True\n",
    "print(a and b)"
   ]
  },
  {
   "cell_type": "code",
   "execution_count": 5,
   "id": "589a7877-8357-4988-b6c2-732c7e09d1a9",
   "metadata": {},
   "outputs": [
    {
     "name": "stdout",
     "output_type": "stream",
     "text": [
      "True\n"
     ]
    }
   ],
   "source": [
    "a = True\n",
    "b = True\n",
    "print(a and b)"
   ]
  },
  {
   "cell_type": "code",
   "execution_count": 6,
   "id": "75b3f8fb-a514-4950-a39b-030f0ac63604",
   "metadata": {},
   "outputs": [
    {
     "name": "stdout",
     "output_type": "stream",
     "text": [
      "False\n"
     ]
    }
   ],
   "source": [
    "a = False\n",
    "b = False\n",
    "print(a and b)"
   ]
  },
  {
   "cell_type": "code",
   "execution_count": 7,
   "id": "efde33ab-0009-4f7f-8c42-54c6e1c2ef4a",
   "metadata": {},
   "outputs": [
    {
     "name": "stdout",
     "output_type": "stream",
     "text": [
      "True\n"
     ]
    }
   ],
   "source": [
    "a = True\n",
    "b = False\n",
    "print(a or b)"
   ]
  },
  {
   "cell_type": "markdown",
   "id": "2d088044-fcdd-4ce2-96b4-35d0c42745b9",
   "metadata": {},
   "source": [
    "a = False\n",
    "b = True\n",
    "print(a or b)"
   ]
  },
  {
   "cell_type": "code",
   "execution_count": 9,
   "id": "69f05d1d-7246-4f9e-948a-fa6a54e1e8e7",
   "metadata": {},
   "outputs": [
    {
     "name": "stdout",
     "output_type": "stream",
     "text": [
      "True\n"
     ]
    }
   ],
   "source": [
    "a = True\n",
    "b = True\n",
    "print(a or b)"
   ]
  },
  {
   "cell_type": "code",
   "execution_count": 10,
   "id": "ccad4e6c-faa2-47a0-b8b7-797273bbf5f1",
   "metadata": {},
   "outputs": [
    {
     "name": "stdout",
     "output_type": "stream",
     "text": [
      "False\n"
     ]
    }
   ],
   "source": [
    "a = False\n",
    "b = False\n",
    "print(a or b)"
   ]
  },
  {
   "cell_type": "markdown",
   "id": "fe4b8d3f-7818-47a7-ac5a-4b4189860b42",
   "metadata": {},
   "source": [
    "PYTHON- FUNCTIONS"
   ]
  },
  {
   "cell_type": "raw",
   "id": "5383ff0e-4008-4422-8149-04f4fa989380",
   "metadata": {},
   "source": [
    "1. User Defined Function"
   ]
  },
  {
   "cell_type": "code",
   "execution_count": 14,
   "id": "3fb1d69d-372d-4fac-b450-dd00eb741439",
   "metadata": {},
   "outputs": [
    {
     "name": "stdout",
     "output_type": "stream",
     "text": [
      "Hello, Welcome to Python!\n"
     ]
    }
   ],
   "source": [
    "def greet():\n",
    "    print(\"Hello, Welcome to Python!\")\n",
    "greet()"
   ]
  },
  {
   "cell_type": "code",
   "execution_count": 3,
   "id": "bd4038d0-7fa0-480f-a89b-3c72c7435784",
   "metadata": {},
   "outputs": [
    {
     "name": "stdout",
     "output_type": "stream",
     "text": [
      "Hello,Om Welcome to Python!\n"
     ]
    }
   ],
   "source": [
    "def greet(name):\n",
    "    print(f\"Hello,{name} Welcome to Python!\")\n",
    "greet(\"Om\")"
   ]
  },
  {
   "cell_type": "code",
   "execution_count": 5,
   "id": "a84565de-756f-43c3-8e29-a55c0994f5f8",
   "metadata": {},
   "outputs": [
    {
     "name": "stdout",
     "output_type": "stream",
     "text": [
      "Om Dhale\n"
     ]
    }
   ],
   "source": [
    "def my_function(fname, lname):\n",
    "    print(fname+\" \"+lname)\n",
    "my_function(\"Om\", \"Dhale\")"
   ]
  },
  {
   "cell_type": "code",
   "execution_count": 9,
   "id": "811f4138-f125-4ab7-8294-5700e69e9158",
   "metadata": {},
   "outputs": [
    {
     "name": "stdin",
     "output_type": "stream",
     "text": [
      "Enter your name:  Kunal Udawant\n",
      "Enter electricity units:  1100\n"
     ]
    },
    {
     "name": "stdout",
     "output_type": "stream",
     "text": [
      "Your Electricity Bill is  22000\n"
     ]
    }
   ],
   "source": [
    "def electricity_bill(n):\n",
    "    if n<=500:\n",
    "        print(\"Your Electricity Bill is \", n*5)\n",
    "    elif n>500 and n<=700:\n",
    "        print(\"Your Electricity Bill is \", n*10)\n",
    "    elif n>700 and n<=1000:\n",
    "        print(\"Your Electricity Bill is \", n*15)\n",
    "    else:\n",
    "        print(\"Your Electricity Bill is \", n*20)\n",
    "\n",
    "get_name = input(\"Enter your name: \")\n",
    "n = int(input(\"Enter electricity units: \"))\n",
    "electricity_bill(n)"
   ]
  },
  {
   "cell_type": "raw",
   "id": "db7177dc-9db9-4c78-86c9-794dd5664628",
   "metadata": {},
   "source": [
    "2. In-built Functions"
   ]
  },
  {
   "cell_type": "code",
   "execution_count": 18,
   "id": "68f3c104-ccf3-4de9-91ab-65708bdbb087",
   "metadata": {},
   "outputs": [
    {
     "name": "stdout",
     "output_type": "stream",
     "text": [
      "7.5\n"
     ]
    }
   ],
   "source": [
    "a = abs(-7.5)\n",
    "print(a)"
   ]
  },
  {
   "cell_type": "code",
   "execution_count": 19,
   "id": "cae3f63d-ed99-47a2-b51f-46ff3706d0e2",
   "metadata": {},
   "outputs": [
    {
     "name": "stdout",
     "output_type": "stream",
     "text": [
      "8\n"
     ]
    }
   ],
   "source": [
    "a = abs(-8)\n",
    "print(a)"
   ]
  },
  {
   "cell_type": "code",
   "execution_count": 20,
   "id": "8f24747c-da07-4d70-8061-f69d784a3e29",
   "metadata": {},
   "outputs": [
    {
     "name": "stdout",
     "output_type": "stream",
     "text": [
      "5.830951894845301\n"
     ]
    }
   ],
   "source": [
    "a = abs(3+5j)\n",
    "print(a)"
   ]
  },
  {
   "cell_type": "code",
   "execution_count": 24,
   "id": "d6af0cb1-1723-478b-bbfd-35aa556f012c",
   "metadata": {},
   "outputs": [
    {
     "name": "stdout",
     "output_type": "stream",
     "text": [
      "0b100100\n",
      "<class 'str'>\n"
     ]
    }
   ],
   "source": [
    "a = bin(36)\n",
    "print(a)\n",
    "print(type(a))"
   ]
  },
  {
   "cell_type": "code",
   "execution_count": 27,
   "id": "cc1baa92-e3ab-4691-b177-4e8b76b6ba49",
   "metadata": {},
   "outputs": [
    {
     "name": "stdout",
     "output_type": "stream",
     "text": [
      "b'\\x00\\x00\\x00\\x00'\n",
      "<class 'bytes'>\n"
     ]
    }
   ],
   "source": [
    "a = bytes(4)\n",
    "print(a)\n",
    "print(type(a))"
   ]
  },
  {
   "cell_type": "code",
   "execution_count": 29,
   "id": "b133e427-9704-42af-bb20-4cfd6b53ee9a",
   "metadata": {},
   "outputs": [
    {
     "name": "stdout",
     "output_type": "stream",
     "text": [
      "c\n",
      "<class 'str'>\n"
     ]
    }
   ],
   "source": [
    "a = chr(99)\n",
    "print(a)\n",
    "print(type(a))"
   ]
  },
  {
   "cell_type": "code",
   "execution_count": 30,
   "id": "ef0c43d1-aa0b-4563-bc19-3df7028ab4cc",
   "metadata": {},
   "outputs": [
    {
     "name": "stdout",
     "output_type": "stream",
     "text": [
      "(3+5j)\n",
      "<class 'complex'>\n"
     ]
    }
   ],
   "source": [
    "a = complex(3,5)\n",
    "print(a)\n",
    "print(type(a))"
   ]
  },
  {
   "cell_type": "code",
   "execution_count": 31,
   "id": "68d7ed66-0c78-4145-88ad-a6ed0c6d85f1",
   "metadata": {},
   "outputs": [
    {
     "name": "stdout",
     "output_type": "stream",
     "text": [
      "(3.5+5.5j)\n"
     ]
    }
   ],
   "source": [
    "a = complex(3.5, 5.5)\n",
    "print(a)"
   ]
  },
  {
   "cell_type": "code",
   "execution_count": 32,
   "id": "945d5d73-f444-4457-8674-814d0a4ed11c",
   "metadata": {},
   "outputs": [
    {
     "name": "stdout",
     "output_type": "stream",
     "text": [
      "3.0\n"
     ]
    }
   ],
   "source": [
    "a = float(3)\n",
    "print(a)"
   ]
  },
  {
   "cell_type": "code",
   "execution_count": 36,
   "id": "a193084f-e7d9-450a-b184-628ca190cfa7",
   "metadata": {},
   "outputs": [
    {
     "name": "stdout",
     "output_type": "stream",
     "text": [
      "3\n"
     ]
    }
   ],
   "source": [
    "a = int(3.1)\n",
    "print(a)"
   ]
  },
  {
   "cell_type": "code",
   "execution_count": 37,
   "id": "74abe2d3-aaf1-4d9f-9db3-1321dce8d614",
   "metadata": {},
   "outputs": [
    {
     "name": "stdout",
     "output_type": "stream",
     "text": [
      "<class 'str'>\n"
     ]
    }
   ],
   "source": [
    "a = str(9)\n",
    "print(type(a))"
   ]
  },
  {
   "cell_type": "code",
   "execution_count": 1,
   "id": "583c607d-5215-4e2e-ae4c-2a63e0509da7",
   "metadata": {
    "scrolled": true
   },
   "outputs": [
    {
     "name": "stdin",
     "output_type": "stream",
     "text": [
      "Enter Your Name:  Om \n",
      "Enter Your Age:  24\n"
     ]
    },
    {
     "name": "stdout",
     "output_type": "stream",
     "text": [
      "Om \n",
      "24\n"
     ]
    }
   ],
   "source": [
    "a = input(\"Enter Your Name: \")\n",
    "b = input(\"Enter Your Age: \")\n",
    "print(a)\n",
    "print(b)"
   ]
  },
  {
   "cell_type": "markdown",
   "id": "8786de90-566c-4059-8bbe-d1a7981158ab",
   "metadata": {},
   "source": [
    "CONTROL FLOW STATEMENT"
   ]
  },
  {
   "cell_type": "raw",
   "id": "84ff58e9-4dea-47a7-bcc7-fd756a8fcdb1",
   "metadata": {},
   "source": [
    "1. IF statement - write a program to calculate the percentage of student, also determine the grade and remarks according to percentage."
   ]
  },
  {
   "cell_type": "code",
   "execution_count": 3,
   "id": "528f4b88-2484-4858-a240-3214a4604408",
   "metadata": {},
   "outputs": [
    {
     "name": "stdin",
     "output_type": "stream",
     "text": [
      "Enter the name of student:  Om\n",
      "Enter Marathi marks:  73\n",
      "Enter Hindi marks:  80\n",
      "Enter English marks:  56\n",
      "Enter Social Science marks:  95\n",
      "Enter Science marks:  96\n"
     ]
    },
    {
     "name": "stdout",
     "output_type": "stream",
     "text": [
      "The percentage of Om is  80\n",
      "Grade: B| Remarks: Excellent\n"
     ]
    }
   ],
   "source": [
    "name = input(\"Enter the name of student: \")\n",
    "\n",
    "a = int(input(\"Enter Marathi marks: \"))\n",
    "b = int(input(\"Enter Hindi marks: \"))\n",
    "c = int(input(\"Enter English marks: \"))\n",
    "d = int(input(\"Enter Social Science marks: \"))\n",
    "e = int(input(\"Enter Science marks: \"))\n",
    "\n",
    "n = (a+b+c+d+e)/500*100\n",
    "\n",
    "print(f\"The percentage of {name} is \", round(n))\n",
    "\n",
    "if n >= 90:\n",
    "    print(\"Grade: A| Remarks: Outstanding\")\n",
    "if n >= 75 and n < 90:\n",
    "    print(\"Grade: B| Remarks: Excellent\")\n",
    "if n >= 60 and n < 75:\n",
    "    print(\"Grade: C| Remarks: Good\")\n",
    "if n >= 40 and n < 60:\n",
    "    print(\"Grade: D| Remarks: Average\")\n",
    "if n >= 35 and n < 40:\n",
    "    print(\"Grade: E| Remarks: Pass\")\n",
    "if n < 35:\n",
    "    print(\"Grade: F| Remarks: Fail\")"
   ]
  },
  {
   "cell_type": "raw",
   "id": "75020773-6ec6-4250-902e-4a84995daf9a",
   "metadata": {},
   "source": [
    "2. IF ELSE statement"
   ]
  },
  {
   "cell_type": "code",
   "execution_count": 5,
   "id": "2b906833-618e-4609-84c8-b7d0ddded118",
   "metadata": {},
   "outputs": [
    {
     "name": "stdin",
     "output_type": "stream",
     "text": [
      "Enter the number:  -88\n"
     ]
    },
    {
     "name": "stdout",
     "output_type": "stream",
     "text": [
      "-88  is Negative Number\n"
     ]
    }
   ],
   "source": [
    "a = int(input(\"Enter the number: \"))\n",
    "if a > 0:\n",
    "    print(a,\" is Positive Number\")\n",
    "else:\n",
    "    print(a,\" is Negative Number\")"
   ]
  },
  {
   "cell_type": "code",
   "execution_count": 4,
   "id": "96fcf6a1-bb44-465f-b338-b589f4eeb4f4",
   "metadata": {},
   "outputs": [
    {
     "name": "stdin",
     "output_type": "stream",
     "text": [
      "Enter the number:  8\n"
     ]
    },
    {
     "name": "stdout",
     "output_type": "stream",
     "text": [
      "Non Multiple\n"
     ]
    }
   ],
   "source": [
    "a = int(input(\"Enter the number: \"))\n",
    "if a%5==0:\n",
    "    print(\"Multiple\")\n",
    "else:\n",
    "    print(\"Non Multiple\")"
   ]
  },
  {
   "cell_type": "raw",
   "id": "3e9d01b3-a948-4792-997b-88c734ccfe24",
   "metadata": {},
   "source": [
    "3. IF ELIF ELSE Statement"
   ]
  },
  {
   "cell_type": "code",
   "execution_count": 7,
   "id": "4d2a531c-362e-4caf-b40b-f30526b92a62",
   "metadata": {},
   "outputs": [
    {
     "name": "stdin",
     "output_type": "stream",
     "text": [
      "Enter the city:  Nashik\n"
     ]
    },
    {
     "name": "stdout",
     "output_type": "stream",
     "text": [
      "Not Available\n"
     ]
    }
   ],
   "source": [
    "city = input(\"Enter the city: \")\n",
    "if city == \"Delhi\":\n",
    "    print(\"Akshardham Temple\")\n",
    "elif city == \"Mumbai\":\n",
    "    print(\"Atal Setu\")\n",
    "elif city == \"Pune\":\n",
    "    print(\"Dagdusheth Halwai Temple\")\n",
    "elif city == \"Sambhajinagar\":\n",
    "    print(\"Kailash Tample\")\n",
    "else:\n",
    "    print(\"Not Available\")\n"
   ]
  },
  {
   "cell_type": "markdown",
   "id": "4550667f-2c08-418c-8b54-6b6d952b8320",
   "metadata": {},
   "source": [
    "LOOPS IN PYTHON"
   ]
  },
  {
   "cell_type": "raw",
   "id": "6a851a35-6648-4cc2-858d-46f1340aab7e",
   "metadata": {},
   "source": [
    "1. While Loop "
   ]
  },
  {
   "cell_type": "code",
   "execution_count": 2,
   "id": "a915a60a-7531-4dd8-a8d8-59793cf5a014",
   "metadata": {},
   "outputs": [
    {
     "name": "stdout",
     "output_type": "stream",
     "text": [
      "1\n",
      "2\n",
      "3\n",
      "4\n",
      "5\n"
     ]
    }
   ],
   "source": [
    "i = 1 \n",
    "n = 5\n",
    "while i<=5:\n",
    "    print(i)\n",
    "    i = i+1"
   ]
  },
  {
   "cell_type": "code",
   "execution_count": 5,
   "id": "2cb82f82-df7e-4fa2-9ec0-bf6a60701711",
   "metadata": {},
   "outputs": [
    {
     "name": "stdin",
     "output_type": "stream",
     "text": [
      "Enter the Number:  8\n"
     ]
    },
    {
     "name": "stdout",
     "output_type": "stream",
     "text": [
      "8\n",
      "16\n",
      "24\n",
      "32\n",
      "40\n",
      "48\n",
      "56\n",
      "64\n",
      "72\n",
      "80\n"
     ]
    }
   ],
   "source": [
    "x = int(input(\"Enter the Number: \"))\n",
    "i = 1\n",
    "while i<=10:\n",
    "    print(x*i)\n",
    "    i = i+1"
   ]
  },
  {
   "cell_type": "raw",
   "id": "b8830308-ae9b-4fef-b71f-1deb5712223e",
   "metadata": {},
   "source": [
    "2. For Loop"
   ]
  },
  {
   "cell_type": "code",
   "execution_count": 7,
   "id": "f0f8430e-4f2b-4c22-a532-40313eabea97",
   "metadata": {},
   "outputs": [
    {
     "name": "stdout",
     "output_type": "stream",
     "text": [
      "Apple\n",
      "Banana\n",
      "Cheery\n"
     ]
    }
   ],
   "source": [
    "fruits = [\"Apple\", \"Banana\", \"Cheery\"]\n",
    "for x  in fruits:\n",
    "    print(x)"
   ]
  },
  {
   "cell_type": "code",
   "execution_count": 8,
   "id": "3afc0230-464d-4575-a3cf-b43aa7ab7e97",
   "metadata": {},
   "outputs": [
    {
     "name": "stdout",
     "output_type": "stream",
     "text": [
      "O\n",
      "m\n",
      " \n",
      "S\n",
      "h\n",
      "r\n",
      "i\n",
      "k\n",
      "a\n",
      "n\n",
      "t\n",
      " \n",
      "D\n",
      "h\n",
      "a\n",
      "l\n",
      "e\n"
     ]
    }
   ],
   "source": [
    "for x in \"Om Shrikant Dhale\":\n",
    "    print(x)"
   ]
  },
  {
   "cell_type": "code",
   "execution_count": 9,
   "id": "ee196536-2f13-4200-83f1-bd61d69188fd",
   "metadata": {},
   "outputs": [
    {
     "name": "stdout",
     "output_type": "stream",
     "text": [
      "0\n",
      "1\n",
      "2\n",
      "3\n",
      "4\n",
      "5\n",
      "6\n",
      "7\n",
      "8\n",
      "9\n"
     ]
    }
   ],
   "source": [
    "for x in range(10):\n",
    "    print(x)"
   ]
  },
  {
   "cell_type": "code",
   "execution_count": 10,
   "id": "3a2ddcd8-6e1a-4809-9a51-55ee62f7ca77",
   "metadata": {},
   "outputs": [
    {
     "name": "stdout",
     "output_type": "stream",
     "text": [
      "3\n",
      "4\n",
      "5\n",
      "6\n",
      "7\n",
      "8\n",
      "9\n"
     ]
    }
   ],
   "source": [
    "for x in range(3,10):\n",
    "    print(x)"
   ]
  },
  {
   "cell_type": "markdown",
   "id": "25bc010f-9e98-404d-bc1d-fbd5e9a46a5e",
   "metadata": {},
   "source": [
    "PYTHON STRINGS"
   ]
  },
  {
   "cell_type": "code",
   "execution_count": 22,
   "id": "dce0ac1b-dd3b-43b8-965d-34a86c854e7b",
   "metadata": {},
   "outputs": [
    {
     "name": "stdout",
     "output_type": "stream",
     "text": [
      "Python\n",
      "y\n",
      "n\n",
      "yth\n",
      "Pyt\n",
      "hon\n",
      "nohtyP\n",
      "6\n",
      "True\n",
      "Python Programming\n",
      "PythonPythonPython\n",
      "Python\n",
      "Python \n",
      " Python\n",
      "Python\n",
      "PYTHON\n",
      "python\n",
      "strasse\n",
      "Python\n",
      "pYTHON\n",
      "True\n",
      "True\n",
      "False\n",
      "True\n",
      "True\n",
      "True\n",
      "True\n",
      "2\n",
      "4\n",
      "2\n",
      "2\n",
      "baNANA\n",
      "nana\n",
      "bana\n",
      "['a', 'b', 'c']\n",
      "['one', 'two', 'three']\n",
      "['a|b', 'c']\n",
      "('key', ':', 'value')\n",
      "['', 'Line1', 'Line2']\n",
      "a,b,c\n"
     ]
    }
   ],
   "source": [
    "# 1. Creating String\n",
    "string = \"Python\"\n",
    "print(string)\n",
    "\n",
    "# 2. Immutability\n",
    "\n",
    "\"\"\" string = \"D\" + string[1:] \n",
    "print(string) \"\"\"\n",
    "\n",
    "# 3. Indexing & slicing\n",
    "\n",
    "print(string[1])\n",
    "print(string[-1])\n",
    "print(string[1:4])\n",
    "print(string[:3])\n",
    "print(string[3:])\n",
    "print(string[::-1])\n",
    "\n",
    "# 4. Core Operations\n",
    "\n",
    "print(len(string))       # count the characters of string\n",
    "\n",
    "print(\"Py\" in string)    # membership\n",
    "\n",
    "s = string + \" Programming\"     # concatenation \n",
    "print(s)\n",
    "\n",
    "m = string*3                   # repetition\n",
    "print(m)\n",
    "\n",
    "# 5. Essential String Methods \n",
    "\n",
    "  # A. Whitespace Trimming\n",
    "\n",
    "a = \" Python \"\n",
    "print(a.strip())      # 'python'\n",
    "print(a.lstrip())     # ' python'\n",
    "print(a.rstrip())     # 'python '\n",
    "\n",
    "b = \"--Python--\"\n",
    "print(b.strip(\"-\"))   # 'hi'\n",
    "\n",
    "# B. Case Conversion\n",
    "\n",
    "print(\"python\".upper())      #Convert to UPPERCASE\n",
    "print(\"PyThOn\".lower())      #Convert to LOWERCASE\n",
    "print(\"straße\".casefold())  # best for case-insensitive compare\n",
    "print(\"python\".title())\n",
    "print(\"Python\".swapcase())\n",
    "\n",
    "# C. Testing/ Inspection\n",
    "\n",
    "print(\"123\".isdigit())      # True      (Unicode digits too)\n",
    "print(\"Ⅻ\".isnumeric())     # True      (Roman numeral)\n",
    "print(\"12.3\".isdecimal())  # False\n",
    "print(\"abc123\".isalnum())  # True\n",
    "print(\"abc\".isalpha())     # True\n",
    "print(\"   \".isspace())     # True\n",
    "print(\"Hello\".isascii())   # True or False depending on chars\n",
    "\n",
    "# D. Search & Replace\n",
    "\n",
    "s = \"banana\"\n",
    "print(s.find(\"na\"))        # 2   (or -1 if not found)\n",
    "print(s.rfind(\"na\"))       # 4\n",
    "print(s.index(\"na\"))       # 2   (ValueError if not found)\n",
    "print(s.count(\"na\"))       # 2\n",
    "print(s.replace(\"na\", \"NA\"))         # 'baNANA'\n",
    "print(s.removeprefix(\"ba\"))          # 'nana'  (Py 3.9+)\n",
    "print(s.removesuffix(\"na\"))          # 'bana'\n",
    "\n",
    "# E. Split & Join\n",
    "\n",
    "print(\"a,b,c\".split(\",\"))          # ['a','b','c']\n",
    "print(\"one  two   three\".split())  # ['one','two','three']  # any whitespace\n",
    "print(\"a|b|c\".rsplit(\"|\", 1))      # ['a|b','c']\n",
    "print(\"key:value\".partition(\":\"))  # ('key', ':', 'value')  # always 3 parts\n",
    "print(\"\\nLine1\\nLine2\".splitlines())  # ['','Line1','Line2']\n",
    "print(\",\".join([\"a\",\"b\",\"c\"]))     # 'a,b,c'   # efficient concatenation"
   ]
  },
  {
   "cell_type": "markdown",
   "id": "e437e185-24fd-4595-857e-32293d54f2e7",
   "metadata": {},
   "source": [
    "PYTHON LIST"
   ]
  },
  {
   "cell_type": "code",
   "execution_count": 42,
   "id": "2cc9dedb-fe49-4fd9-becb-ab02d6b98ebd",
   "metadata": {},
   "outputs": [
    {
     "name": "stdout",
     "output_type": "stream",
     "text": [
      "[1, 2, 3, 4, 5]\n",
      "<class 'list'>\n",
      "[1.1, 2.2, 3.3, 4.4, 5.5]\n",
      "<class 'list'>\n",
      "['Apple', 'Banana', 'Cherry']\n",
      "<class 'list'>\n",
      "[True, False]\n",
      "<class 'list'>\n",
      "[1, 2, 1.1, 2.2, -8, -2, 'Apple', 'Banana', True, False]\n",
      "<class 'list'>\n",
      "Length of List:  10\n",
      "[]\n",
      "[1, (2, 3), [4, 5]]\n",
      "[1, 2, 3, 4, 5, 6, 7, 8, 9, 10, 11, 12, 13, 14, 15, 16, 17, 18, 19, 20, 21, 22, 23, 24]\n",
      "6\n",
      "24\n",
      "[4, 5, 6, 7, 8, 9]\n",
      "[1, 2, 3]\n",
      "[4, 5, 6, 7, 8, 9, 10, 11, 12, 13, 14, 15, 16, 17, 18, 19, 20, 21, 22, 23, 24]\n",
      "[24, 23, 22, 21, 20, 19, 18, 17, 16, 15, 14, 13, 12, 11, 10, 9, 8, 7, 6, 5, 4, 3, 2, 1]\n",
      "[1, 3, 5, 7, 9, 11, 13, 15, 17, 19, 21, 23]\n",
      "[1, 2, 1.1, 2.2, -8, -2, 'Apple', 'Banana', True, 'Tiger']\n",
      "[1, 2, 'Banana', 'Mango', 'Guava', -2, 'Apple', 'Banana', True, 'Tiger']\n",
      "[1, 2, 3, 4, 5, 'apple', 'banana', 'guava', 'mango']\n",
      "[1, 2, 3, 4, 5, 'apple', 'banana', 'guava', 'mango', 'papaya']\n",
      "[1, 2, 4, 5, 'apple', 'banana', 'guava', 'mango', 'papaya']\n",
      "['papaya', 'mango', 'guava', 'banana', 'apple', 5, 4, 2, 1]\n",
      "['papaya', 'Kesariya', 'mango', 'guava', 'banana', 'apple', 5, 4, 2, 1]\n",
      "mango\n",
      "['papaya', 'Kesariya', 'guava', 'banana', 'apple', 5, 4, 2, 1]\n",
      "[1, 2, 3, 4, 5, 6, 7, 8, 9, 10, 11, 12, 13, 14, 15, 16, 17, 18, 19, 20, 21, 22, 23, 24]\n",
      "24\n",
      "The sum of list is  300\n"
     ]
    }
   ],
   "source": [
    "# Creating List\n",
    "L1 = [1,2,3,4,5]\n",
    "print(L1)\n",
    "print(type(L1))\n",
    "\n",
    "L2 = [1.1,2.2,3.3,4.4,5.5]\n",
    "print(L2)\n",
    "print(type(L2))\n",
    "\n",
    "L3 = [\"Apple\", \"Banana\", \"Cherry\"]\n",
    "print(L3)\n",
    "print(type(L3))\n",
    "\n",
    "L4 = [True, False]\n",
    "print(L4)\n",
    "print(type(L4))\n",
    "\n",
    "L5 = [1,2, 1.1, 2.2, -8, -2, \"Apple\", \"Banana\", True, False]\n",
    "print(L5)\n",
    "print(type(L5))\n",
    "\n",
    "print(\"Length of List: \",len(L5))     # Getting Lenght of List\n",
    "\n",
    "empty_list = []\n",
    "print(empty_list)\n",
    "\n",
    "nested_list = [1, (2, 3), [4, 5]]   # Nested list\n",
    "print(nested_list)\n",
    "\n",
    "\n",
    "# Accessing list \n",
    "\n",
    "\n",
    "L6 = list(range(1,25))\n",
    "print(L6)\n",
    "\n",
    "# Indexing List\n",
    "print(L6[5])\n",
    "print(L6[-1])\n",
    "\n",
    "# Slicing List\n",
    "print(L6[3:9])\n",
    "print(L6[:3])\n",
    "print(L6[3:])\n",
    "print(L6[::-1])\n",
    "print(L6[0:23:2]) \n",
    "\n",
    "# Modifying List.\n",
    "\n",
    "L5 [-1] = \"Tiger\"\n",
    "print(L5)\n",
    "L5[2:5] = [\"Banana\", \"Mango\", \"Guava\"]\n",
    "print(L5)\n",
    "\n",
    "L7 = [1,2,3,4,5,\"apple\", \"banana\", \"guava\", \"mango\"]\n",
    "print(L7)\n",
    "\n",
    "L7.append(\"papaya\")\n",
    "print(L7)\n",
    "\n",
    "L7.remove(3)\n",
    "print(L7)\n",
    "\n",
    "L7.reverse()\n",
    "print(L7)\n",
    "\n",
    "L7.insert(1, \"Kesariya\")\n",
    "print(L7)\n",
    "\n",
    "popped = L7.pop(2)\n",
    "print(popped)\n",
    "print(L7)\n",
    "\n",
    "L8 = list(range(1,25))\n",
    "print(L8)\n",
    "print(len(L8))\n",
    "\n",
    "a = 0\n",
    "for i in range(24):\n",
    "    a = a+L8[i]\n",
    "    i = i+1\n",
    "print(\"The sum of list is \",a)\n"
   ]
  },
  {
   "cell_type": "markdown",
   "id": "e697da62-fe3a-46a9-9d1f-68ba88b42590",
   "metadata": {},
   "source": [
    "PYTHON TUPLE"
   ]
  },
  {
   "cell_type": "code",
   "execution_count": 5,
   "id": "da2aa399-87da-488c-9f04-3968c32d47a1",
   "metadata": {},
   "outputs": [
    {
     "name": "stdout",
     "output_type": "stream",
     "text": [
      "(1, 2, 3, 4, 5, 6)\n",
      "<class 'tuple'>\n",
      "(1.1, 1.2, 1.3, 1.4, 1.5)\n",
      "<class 'tuple'>\n",
      "('Apple', 'Banana', 'Cheery')\n",
      "<class 'tuple'>\n",
      "(True, False)\n",
      "<class 'tuple'>\n",
      "(1, 2, 1.1, 2.2, -8, -2, 'Apple', 'Banana', True, False)\n",
      "<class 'tuple'>\n",
      "Length of Tuple:  10\n",
      "()\n",
      "(1, (2, 3), [4, 5])\n",
      "<class 'tuple'>\n",
      "1\n",
      "10\n",
      "(2, 3)\n",
      "(4, 5, 6, 7, 8, 9)\n",
      "(1, 2, 3)\n",
      "(4, 5, 6, 7, 8, 9, 10)\n",
      "(10, 9, 8, 7, 6, 5, 4, 3, 2, 1)\n",
      "(1, 3, 5, 7, 9)\n",
      "(1, 2, 3, 4, 5)\n",
      "(1, 2, 3, 1, 2, 3)\n",
      "<class 'tuple'>\n"
     ]
    }
   ],
   "source": [
    "# Creating Tuple\n",
    "\n",
    "T1 = (1,2,3,4,5,6)\n",
    "print(T1)\n",
    "print(type(T1))\n",
    "\n",
    "T2 = (1.1, 1.2, 1.3, 1.4, 1.5)\n",
    "print(T2)\n",
    "print(type(T2))\n",
    "\n",
    "T3 = (\"Apple\", \"Banana\", \"Cheery\")\n",
    "print(T3)\n",
    "print(type(T3))\n",
    "\n",
    "T4 = (True, False)\n",
    "print(T4)\n",
    "print(type(T4))\n",
    "\n",
    "T5 = (1,2, 1.1, 2.2, -8, -2, \"Apple\", \"Banana\", True, False)\n",
    "print(T5)\n",
    "print(type(T5))\n",
    "\n",
    "print(\"Length of Tuple: \",len(T5))     # Getting Lenght of Tuple\n",
    "\n",
    "empty_tuple = ()\n",
    "print(empty_tuple)\n",
    "\n",
    "nested_tuple = (1, (2, 3), [4, 5])   # Nested tuple\n",
    "print(nested_tuple)\n",
    "\n",
    "tuple = 1,2,3\n",
    "print(type(tuple))  # Tuple without parentheses (Python allows this)\n",
    "\n",
    "# Accessing Tuple  \n",
    "\n",
    "T6 = (1,2,3,4,5,6,7,8,9,10)\n",
    "\n",
    "# Indexing Tuple \n",
    "print(T6[0]) \n",
    "print(T6[-1])   \n",
    "print(T6[1:3])  \n",
    "\n",
    "# Slicing Tuple \n",
    "\n",
    "print(T6[3:9])\n",
    "print(T6[:3])\n",
    "print(T6[3:])\n",
    "print(T6[::-1])\n",
    "print(T6[0:9:2])\n",
    "\n",
    "# Tuple Operations\n",
    "\n",
    "t1 = (1, 2, 3)\n",
    "t2 = (4, 5)\n",
    "\n",
    "# Concatenation\n",
    "print(t1 + t2)     # (1, 2, 3, 4, 5)\n",
    "\n",
    "# Repetition\n",
    "print(t1 * 2)      # (1, 2, 3, 1, 2, 3)\n"
   ]
  },
  {
   "cell_type": "markdown",
   "id": "f7e66363-8588-4bd6-98c0-1a92cbaa1798",
   "metadata": {},
   "source": [
    "PYTHON SET"
   ]
  },
  {
   "cell_type": "code",
   "execution_count": 28,
   "id": "6e2fbe4f-576d-4206-90ef-38a2104adf9d",
   "metadata": {},
   "outputs": [
    {
     "name": "stdout",
     "output_type": "stream",
     "text": [
      "{1, 2, 3, 4, 5}\n",
      "{1.1, 2.2, 3.3, 4.4, 5.5}\n",
      "{'Apple', 'Cherry', 'Banana'}\n",
      "{False, True}\n",
      "{False, 1, 2, 2.2, 1.1, (3+5j), 'Banana', 'Apple'}\n",
      "{1, 2, 3, 4}\n",
      "<class 'set'>\n",
      "<class 'dict'>\n",
      "{1, 2, 3, 4, 5, 6, 7, 8, 9, 10, 11}\n",
      "{1, 2, 3, 4, 5, 6, 7, 8, 9, 10, 11, 12, 13, 14}\n",
      "{1, 2, 3, 4, 5, 6, 7, 8, 9, 10, 11, 12, 13, 14}\n",
      "{2, 3, 4, 5, 6, 7, 8, 9, 10, 11, 12, 13, 14}\n",
      "{1, 2, 3, 4, 5, 6}\n",
      "{1, 2, 3, 4, 5, 6}\n",
      "{3, 4}\n",
      "{3, 4}\n",
      "{1, 2}\n",
      "{1, 2}\n",
      "{1, 2, 5, 6}\n",
      "{1, 2, 5, 6}\n",
      "[1, 2, 3, 4, 5]\n",
      "{'Charlie', 'Alice'}\n"
     ]
    }
   ],
   "source": [
    "# Creating Set\n",
    "s1 = {1,2,3,4,5}\n",
    "print(s1)\n",
    "\n",
    "s2 = {1.1,2.2,3.3,4.4,5.5}\n",
    "print(s2)\n",
    "\n",
    "s3 = {\"Apple\", \"Banana\", \"Cherry\"}\n",
    "print(s3)\n",
    "\n",
    "s4 = {True, False}\n",
    "print(s4)\n",
    "\n",
    "s5 = {1,2,1.1,2.2,3+5j,\"Apple\", \"Banana\",True, False}\n",
    "print(s5)\n",
    "\n",
    "dup_set = {1, 2, 2, 3, 4}\n",
    "print(dup_set)  # {1, 2, 3, 4}    # Duplicates are removed\n",
    "\n",
    "\n",
    "empty_set = set()  # Correct way    # Empty set\n",
    "print(type(empty_set))  # <class 'set'> \n",
    "\n",
    "wrong_set = {}   # This creates a dictionary, not a set\n",
    "print(type(wrong_set))  # <class 'dict'>\n",
    "\n",
    "# Adding & Removing Elements\n",
    "\n",
    "s = {1,2,3,4,5,6,7,8,9,10}\n",
    "\n",
    "s.add(11)\n",
    "print(s)  # Add element\n",
    "\n",
    "s.update([12,13,14])\n",
    "print(s)  # Add multiple elements\n",
    "\n",
    "# s.remove(15)\n",
    "# print(s)   # Remove element (error if not present)\n",
    "\n",
    "s.discard(15) # Discard element (no error if not present)\n",
    "print(s)\n",
    "\n",
    "s.pop()\n",
    "print(s)  # Removes some random element \n",
    "\n",
    "\n",
    "# Mathematical Set Operations \n",
    "\n",
    "A = {1, 2, 3, 4}\n",
    "B = {3, 4, 5, 6}\n",
    "\n",
    "print(A | B)        # {1, 2, 3, 4, 5, 6} # Union\n",
    "print(A.union(B))   # {1, 2, 3, 4, 5, 6} # Union\n",
    "\n",
    "\n",
    "print(A & B)               # {3, 4}   # Intersection\n",
    "print(A.intersection(B))   # {3, 4}   # Intersection\n",
    "\n",
    "print(A - B)      # {1, 2}        # Difference\n",
    "print(A.difference(B))  # {1, 2}    # Difference\n",
    "\n",
    "\n",
    "print(A ^ B)                       # {1, 2, 5, 6}        # Symmetric Difference\n",
    "print(A.symmetric_difference(B))   # {1, 2, 5, 6}        # Symmetric Difference\n",
    "\n",
    "\n",
    "# Example Use Case\n",
    "\n",
    "nums = [1, 2, 2, 3, 4, 4, 5]\n",
    "unique_nums = list(set(nums))\n",
    "print(unique_nums)                 # removing duplicates\n",
    "\n",
    "class_A = {\"Alice\", \"Bob\", \"Charlie\"}\n",
    "class_B = {\"Charlie\", \"David\", \"Alice\"}\n",
    "\n",
    "print(class_A & class_B)                    # Taking Common Students from class A and B\n"
   ]
  },
  {
   "cell_type": "markdown",
   "id": "c4a385bd-1fe4-4efd-b387-926dec972df6",
   "metadata": {},
   "source": [
    "PYTHON DICTIONARY"
   ]
  },
  {
   "cell_type": "code",
   "execution_count": 36,
   "id": "d875b51e-ed33-44ab-bd2b-cbc0873fec50",
   "metadata": {},
   "outputs": [
    {
     "name": "stdout",
     "output_type": "stream",
     "text": [
      "{'name': 'Om', 'age': 24, 'profession': 'Data Analytics'}\n",
      "{1: 'One', 'Two': 2, (3, 4): 'tuple as key'}\n",
      "{}\n",
      "{'brand': 'AtliQ', 'type': 'Laptop', 'price': 60000}\n",
      "{'name': 'Om', 'age': 24, 'role': 'Data Analyst'}\n",
      "Om\n",
      "24\n",
      "Not Assigned\n",
      "{'name': 'Om', 'age': 24, 'profession': 'Data Analytics', 'education': 'MCA'}\n",
      "{'name': 'Om Dhale', 'age': 24, 'profession': 'Data Analytics', 'education': 'MCA'}\n",
      "{'brand': 'Tesla', 'model': 'Model S', 'year': 2024}\n",
      "{'brand': 'Tesla', 'year': 2024}\n",
      "{'brand': 'Tesla'}\n",
      "{}\n",
      "{}\n",
      "name\n",
      "age\n",
      "profession\n",
      "education\n",
      "Om Dhale\n",
      "24\n",
      "Data Analytics\n",
      "MCA\n",
      "name : Om Dhale\n",
      "age : 24\n",
      "profession : Data Analytics\n",
      "education : MCA\n",
      "Developer\n",
      "{1: 1, 2: 4, 3: 9, 4: 16, 5: 25}\n"
     ]
    }
   ],
   "source": [
    "# Creating Dictionary\n",
    "\n",
    "employee = {\n",
    "    \"name\" : \"Om\",\n",
    "    \"age\" : 24,\n",
    "    \"profession\" : \"Data Analytics\"\n",
    "}\n",
    "print(employee)\n",
    "\n",
    "d = {1 : \"One\", \"Two\" : 2, (3,4) : \"tuple as key\"}      # valid dictionary\n",
    "print(d)\n",
    "\n",
    "\n",
    " # d = {[1,2] : \"list\"}   # invalid dictionary\n",
    "\n",
    "\n",
    "d1 = {}     # Empty dictionary\n",
    "print(d1)\n",
    "\n",
    "\n",
    "d2 = {\"brand\": \"AtliQ\", \"type\": \"Laptop\", \"price\": 60000}   # With data\n",
    "print(d2)\n",
    "\n",
    "d3 = dict(name=\"Om\", age = 24, role=\"Data Analyst\")  # Using dict() constructor\n",
    "print(d3)\n",
    "\n",
    "# Accessing Dictionary Elements\n",
    "\n",
    "print(employee[\"name\"])    # Access using key\n",
    "print(employee.get(\"age\"))  # Using get() method (avoids error if key doesn’t exist)\n",
    "print(employee.get(\"grade\", \"Not Assigned\")) # Using get() method (avoids error if key doesn’t exist)\n",
    "\n",
    "# Adding and Updating key Items\n",
    "\n",
    "employee[\"education\"] = \"MCA\"   # Add new key-value pair\n",
    "print(employee)\n",
    "\n",
    "employee[\"name\"] = \"Om Dhale\"  # Update value\n",
    "print(employee)\n",
    "\n",
    "# Removing Dictionary Items\n",
    "\n",
    "car = {\"brand\": \"Tesla\", \"model\": \"Model S\", \"year\": 2024}\n",
    "print(car)\n",
    "\n",
    "car.pop(\"model\")   # pop() → removes item by key\n",
    "print(car)\n",
    "\n",
    "car.popitem() # popitem() → removes last inserted key-value\n",
    "print(car)\n",
    "\n",
    "del car[\"brand\"]     # del → remove item by key or delete dictionary, # del car → deletes whole dictionary\n",
    "print(car)\n",
    "\n",
    "car.clear()   # clear() → empties dictionary\n",
    "print(car)\n",
    "\n",
    "# Looping Through Dictionary\n",
    "\n",
    "for key in employee:\n",
    "    print(key)              # Loop keys\n",
    "\n",
    "for values in employee.values():\n",
    "    print(values)          # Loop values\n",
    "\n",
    "for key, values in employee.items():\n",
    "    print(key, \":\", values)    # Loop both key and value\n",
    "\n",
    "# Nested Dictionary \n",
    "\n",
    "company = {\n",
    "    \"employee1\": {\"name\": \"Om\", \"role\": \"Analyst\"},\n",
    "    \"employee2\": {\"name\": \"Raj\", \"role\": \"Developer\"}\n",
    "}\n",
    "\n",
    "print(company[\"employee2\"][\"role\"])  \n",
    "\n",
    "# Dictionary Comprehension\n",
    "\n",
    "squares = {x: x*x for x in range(1, 6)}\n",
    "print(squares)    # Square of numbers using dictionary comprehension\n"
   ]
  },
  {
   "cell_type": "code",
   "execution_count": null,
   "id": "58393368-5596-4ddb-9912-5e19c0090d11",
   "metadata": {},
   "outputs": [],
   "source": []
  }
 ],
 "metadata": {
  "kernelspec": {
   "display_name": "Python 3 (ipykernel)",
   "language": "python",
   "name": "python3"
  },
  "language_info": {
   "codemirror_mode": {
    "name": "ipython",
    "version": 3
   },
   "file_extension": ".py",
   "mimetype": "text/x-python",
   "name": "python",
   "nbconvert_exporter": "python",
   "pygments_lexer": "ipython3",
   "version": "3.13.5"
  }
 },
 "nbformat": 4,
 "nbformat_minor": 5
}
